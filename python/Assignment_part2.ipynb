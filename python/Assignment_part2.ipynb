{
 "cells": [
  {
   "cell_type": "markdown",
   "id": "63f894ce",
   "metadata": {
    "collapsed": true
   },
   "source": [
    "### Applying the stride split to all markers (putting it all together)\n",
    "So far we only worked with the Poll marker to look at data. Now lets apply the data imputation, filter and stride split on all of our markers. Beacuse the filter will not work on non-finite data, we use the gapfill without thinking about the maximum fill length. Once the filtering is done we will put back the nan values. Once the data has been filtered we will apply the stride split to look at data stride by stride. \n"
   ]
  },
  {
   "cell_type": "code",
   "execution_count": null,
   "id": "353f97c9",
   "metadata": {},
   "outputs": [],
   "source": []
  }
 ],
 "metadata": {
  "kernelspec": {
   "display_name": "Python 3 (ipykernel)",
   "language": "python",
   "name": "python3"
  },
  "language_info": {
   "codemirror_mode": {
    "name": "ipython",
    "version": 3
   },
   "file_extension": ".py",
   "mimetype": "text/x-python",
   "name": "python",
   "nbconvert_exporter": "python",
   "pygments_lexer": "ipython3",
   "version": "3.11.4"
  }
 },
 "nbformat": 4,
 "nbformat_minor": 5
}
