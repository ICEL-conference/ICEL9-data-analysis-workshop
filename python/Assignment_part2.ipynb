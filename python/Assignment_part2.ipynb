{
 "cells": [
  {
   "cell_type": "markdown",
   "id": "d1b48f7f",
   "metadata": {
    "collapsed": true
   },
   "source": [
    "### Applying the stride split to all markers (putting it all together)\n",
    "So far we only worked with the Poll marker to look at data. Now lets apply the data imputation, filter and stride split on all of our markers. Beacuse the filter will not work on non-finite data, we use the gapfill without thinking about the maximum fill length. Once the filtering is done we will put back the nan values. Once the data has been filtered we will apply the stride split to look at data stride by stride. \n"
   ]
  },
  {
   "cell_type": "code",
   "execution_count": 1,
   "id": "9c5f37fd",
   "metadata": {},
   "outputs": [
    {
     "ename": "NameError",
     "evalue": "name 'markers_upper_body' is not defined",
     "output_type": "error",
     "traceback": [
      "\u001b[0;31m---------------------------------------------------------------------------\u001b[0m",
      "\u001b[0;31mNameError\u001b[0m                                 Traceback (most recent call last)",
      "Cell \u001b[0;32mIn[1], line 5\u001b[0m\n\u001b[1;32m      1\u001b[0m \u001b[38;5;66;03m# print(peak_indices)\u001b[39;00m\n\u001b[1;32m      2\u001b[0m \n\u001b[1;32m      3\u001b[0m \u001b[38;5;66;03m# Loop over ALL markers\u001b[39;00m\n\u001b[1;32m      4\u001b[0m all_markers \u001b[38;5;241m=\u001b[39m []\n\u001b[0;32m----> 5\u001b[0m all_markers\u001b[38;5;241m.\u001b[39mextend(markers_upper_body)\n\u001b[1;32m      6\u001b[0m all_markers\u001b[38;5;241m.\u001b[39mextend(markers_stride_split)\n\u001b[1;32m      8\u001b[0m \u001b[38;5;66;03m# Prepare figure\u001b[39;00m\n",
      "\u001b[0;31mNameError\u001b[0m: name 'markers_upper_body' is not defined"
     ]
    }
   ],
   "source": [
    "# print(peak_indices)\n",
    "\n",
    "# Loop over ALL markers\n",
    "all_markers = []\n",
    "all_markers.extend(markers_upper_body)\n",
    "all_markers.extend(markers_stride_split)\n",
    "\n",
    "# Prepare figure\n",
    "fig = make_subplots(rows=len(all_markers), cols=1, subplot_titles=all_markers, vertical_spacing=0.04)\n",
    "\n",
    "for mcnt, marker in enumerate(all_markers):\n",
    "    # Get raw data from data frame\n",
    "    raw = df[f\"{marker}_z\"][start_index:end_index]\n",
    "    \n",
    "    # Gapfill, but remember indices with nan\n",
    "    nan_indices = np.isnan(raw)\n",
    "    filled, _ = InterpolationEnum.pchip.fill_missing(raw, max_gap_length=np.inf)\n",
    "     \n",
    "    # Filter use our function, lets use cutoffs here that we know will work for most trotting horses\n",
    "    filtered = sos_bandpass_filter(data=filled, frame_rate=fs, low_cut=1, high_cut=6, order=4)\n",
    "    \n",
    "    # Put back nans\n",
    "    filtered[nan_indices] = np.nan\n",
    "    \n",
    "    #Use the stride split we made\n",
    "    for pcnt, peak_ind in enumerate(range(len(peak_indices) - 1)):\n",
    "        stride_start = peak_indices[peak_ind]\n",
    "        stride_end = peak_indices[peak_ind + 1]\n",
    "        stride_ts = filtered[stride_start:stride_end]\n",
    "        \n",
    "        fig.add_trace(go.Scatter(y=stride_ts,\n",
    "                                 name=f\"{marker} stride {pcnt}\",\n",
    "                                 line=go.scatter.Line(color=colors[mcnt])), row=mcnt + 1, col=1)\n",
    "        fig.update_yaxes(title=\"Amplitude (mm)\", row=mcnt + 1, col=1)\n",
    "\n",
    "fig.update_xaxes(title=\"% of stride\", row=len(all_markers), col=1)\n",
    "fig.update_layout(height=1000)    \n",
    "fig.show()"
   ]
  },
  {
   "cell_type": "code",
   "execution_count": null,
   "id": "9d73dd85",
   "metadata": {},
   "outputs": [],
   "source": []
  }
 ],
 "metadata": {
  "kernelspec": {
   "display_name": "Python 3 (ipykernel)",
   "language": "python",
   "name": "python3"
  },
  "language_info": {
   "codemirror_mode": {
    "name": "ipython",
    "version": 3
   },
   "file_extension": ".py",
   "mimetype": "text/x-python",
   "name": "python",
   "nbconvert_exporter": "python",
   "pygments_lexer": "ipython3",
   "version": "3.11.4"
  }
 },
 "nbformat": 4,
 "nbformat_minor": 5
}
