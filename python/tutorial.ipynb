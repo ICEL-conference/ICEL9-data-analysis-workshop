{
 "cells": [
  {
   "cell_type": "code",
   "execution_count": null,
   "metadata": {
    "ExecuteTime": {
     "end_time": "2023-08-16T10:07:32.081114300Z",
     "start_time": "2023-08-16T10:07:31.301335200Z"
    }
   },
   "outputs": [],
   "source": [
    "import numpy as np\n",
    "import plotly.graph_objs as go\n",
    "\n",
    "x = np.linspace(0, 2*np.pi, 360)\n",
    "y = np.cos(5*x)\n",
    "\n",
    "fig = go.Figure()\n",
    "trace = go.Scatter(x=x, y=y)\n",
    "\n",
    "fig.add_trace(trace)\n",
    "fig.show()\n",
    "print(\"test\")"
   ]
  }
 ],
 "metadata": {
  "kernelspec": {
   "display_name": "Python 3 (ipykernel)",
   "language": "python",
   "name": "python3"
  },
  "language_info": {
   "codemirror_mode": {
    "name": "ipython",
    "version": 3
   },
   "file_extension": ".py",
   "mimetype": "text/x-python",
   "name": "python",
   "nbconvert_exporter": "python",
   "pygments_lexer": "ipython3",
   "version": "3.11.4"
  }
 },
 "nbformat": 4,
 "nbformat_minor": 1
}
