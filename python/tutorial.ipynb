{
 "cells": [
  {
   "cell_type": "code",
   "execution_count": 1,
   "metadata": {
    "ExecuteTime": {
     "end_time": "2023-08-16T14:24:15.761061900Z",
     "start_time": "2023-08-16T14:24:15.755922500Z"
    },
    "scrolled": false
   },
   "outputs": [],
   "source": [
    "# Confirm that all installed packages can be imported. If you are here that means the jupyter installation was successful\n",
    "import numpy as np\n",
    "import pandas as pd\n",
    "import scipy.signal as signal\n",
    "import plotly.graph_objects as go\n"
   ]
  },
  {
   "cell_type": "code",
   "execution_count": null,
   "metadata": {
    "ExecuteTime": {
     "end_time": "2023-08-16T14:24:15.770852700Z",
     "start_time": "2023-08-16T14:24:15.766051300Z"
    }
   },
   "outputs": [],
   "source": [
    "# Make up some data and put in an array\n",
    "x = np.linspace(0, 2 * np.pi, 1000)\n",
    "low_freq_signal = 3 * np.cos(3*x)\n",
    "mid_freq_signal = 2 * np.cos(4*x)\n",
    "high_freq_signal = 1 * np.cos(6*x)\n",
    "\n",
    "# Put data in a numpy array\n",
    "numpy_array = np.array([low_freq_signal, mid_freq_signal, high_freq_signal]).T\n",
    "\n",
    "# Print the shape of the array, this tells us how many rows and columns we have\n",
    "print(f\"rows: {numpy_array.shape[0]}\\ncolumns: {numpy_array.shape[1]}\")\n"
   ]
  },
  {
   "cell_type": "code",
   "execution_count": null,
   "metadata": {
    "ExecuteTime": {
     "end_time": "2023-08-16T14:24:15.820921100Z",
     "start_time": "2023-08-16T14:24:15.773845Z"
    }
   },
   "outputs": [],
   "source": [
    "# Create a dataframe, essentially a table. Label the according to high, mid and low frequencies, use the previously created \n",
    "# array\n",
    "\n",
    "column_names = [\"low\", \"mid\", \"high\"]\n",
    "df = pd.DataFrame(numpy_array, columns=column_names)\n",
    "\n",
    "# Print the dataframe, jupyter notebook autmatically crops the output, limiting the number of rows of the table that are \n",
    "# printed\n",
    "print(df)"
   ]
  },
  {
   "cell_type": "code",
   "execution_count": null,
   "metadata": {
    "ExecuteTime": {
     "end_time": "2023-08-16T14:24:15.834399100Z",
     "start_time": "2023-08-16T14:24:15.788928700Z"
    }
   },
   "outputs": [],
   "source": [
    "# Plot data\n",
    "\n",
    "# Create a time vector the same length as the data\n",
    "frame_rate = 100  # 100 Hz\n",
    "t = np.linspace(0, len(x)/frame_rate, len(x))\n",
    "\n",
    "# Create a figure\n",
    "fig = go.Figure()\n",
    "\n",
    "# Create traces (in this case lines to put in the figure), use data according to column name in the data frame\n",
    "low_freq_trace = go.Scatter(x=t, y=df[\"low\"], name=\"low frequency signal\")\n",
    "mid_freq_trace = go.Scatter(x=t, y=df[\"mid\"], name=\"mid frequency signal\")\n",
    "high_freq_trace = go.Scatter(x=t, y=df[\"high\"], name=\"high frequency signal\")\n",
    "\n",
    "# Add the traces to the figure\n",
    "fig.add_trace(low_freq_trace)\n",
    "fig.add_trace(mid_freq_trace)\n",
    "fig.add_trace(high_freq_trace)\n",
    "\n",
    "# Show the figure, unless this method is called the figure will not be rendered\n",
    "fig.show()\n"
   ]
  },
  {
   "cell_type": "code",
   "execution_count": null,
   "metadata": {
    "ExecuteTime": {
     "end_time": "2023-08-16T14:24:54.328818600Z",
     "start_time": "2023-08-16T14:24:54.258323Z"
    }
   },
   "outputs": [],
   "source": [
    "# Find peaks and plot their locations in the data\n",
    "fig2 = go.Figure()\n",
    "\n",
    "for name in column_names:\n",
    "    y = df[name]\n",
    "    peak_indices, _ = signal.find_peaks(y)\n",
    "    y_trace = go.Scatter(x=t, y=y, name=f\"{name} frequency signal\")\n",
    "    peaks_trace = go.Scatter(x=t[peak_indices],\n",
    "                             y=y[peak_indices],\n",
    "                             name=f\"{name} frequency peaks (N={len(peak_indices)})\",\n",
    "                             mode=\"markers\")\n",
    "    fig2.add_traces([y_trace, peaks_trace])\n",
    "\n",
    "fig2.show()\n"
   ]
  }
 ],
 "metadata": {
  "kernelspec": {
   "display_name": "Python 3 (ipykernel)",
   "language": "python",
   "name": "python3"
  },
  "language_info": {
   "codemirror_mode": {
    "name": "ipython",
    "version": 3
   },
   "file_extension": ".py",
   "mimetype": "text/x-python",
   "name": "python",
   "nbconvert_exporter": "python",
   "pygments_lexer": "ipython3",
   "version": "3.11.4"
  }
 },
 "nbformat": 4,
 "nbformat_minor": 1
}
