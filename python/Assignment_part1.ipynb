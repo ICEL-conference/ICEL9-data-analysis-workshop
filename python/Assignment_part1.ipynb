{
 "cells": [
  {
   "cell_type": "markdown",
   "source": [
    "# ICEL9 Data Analysis Workshop\n",
    "Python version - Christoffer Roepstorff, collaboration with J.I.M Parmentier\n",
    "\n",
    "### Skeleton of the assignment - part 1 (Looking at 1 file)\n",
    "1. Declare the datapath and different needed information (e.g., horses identifiers, markers of interest) and load the file\n",
    "2. Extract information (labels (marker names), markers' trajectories, sampling rate, measurement duration), create a time vector, extract the trajectories of interest\n",
    "3. Visualise the data, see that some data have missing samples (Motion Capture)\n",
    "4. Deal with missing samples, if missing samples are less than 3 \n",
    "5. Extract the segment of interest (no missing data)\n",
    "6. Explore the effect of mean removal, fitlering \n",
    "7. Stride split, based on LH hoof or LH fetlock (why LH? discuss it during the workshop)\n",
    "8. Extract the parameters of interest\n",
    "9. Save the parameters in a table (e.g., csv file)"
   ],
   "metadata": {
    "collapsed": false
   },
   "id": "6a270df096bad3"
  },
  {
   "cell_type": "markdown",
   "source": [
    "## 1. Load data\n",
    "before any data is loaded we need to import the packages we are going to use in this notebook."
   ],
   "metadata": {
    "collapsed": false
   },
   "id": "4b866225c46fb18"
  },
  {
   "cell_type": "code",
   "execution_count": 69,
   "outputs": [],
   "source": [
    "import pandas as pd\n",
    "import numpy as np\n",
    "from pathlib import Path"
   ],
   "metadata": {
    "collapsed": false,
    "ExecuteTime": {
     "end_time": "2023-08-23T13:43:33.837242650Z",
     "start_time": "2023-08-23T13:43:33.789518956Z"
    }
   },
   "id": "ea61ae04dff612d2"
  },
  {
   "cell_type": "markdown",
   "source": [
    "To load the data, you need to first define a datapath. You can copy-paste below where your data is located (the relative path to the repo data folder should work out of the box). We will use our first imported library to load the csv file of **horseA** at time point **TO**.:"
   ],
   "metadata": {
    "collapsed": false
   },
   "id": "f790a63fcdcc666b"
  },
  {
   "cell_type": "code",
   "execution_count": 65,
   "outputs": [
    {
     "data": {
      "text/plain": "          Poll_x      Poll_y      Poll_z  Poll_unknown        T8_x  \\\n0    -560.922363  233.692276  977.960938      0.495078 -195.458160   \n1    -558.775208  232.062744  978.336975      0.604814 -195.913132   \n2    -556.945679  230.355881  978.746765      0.775821 -196.926895   \n3    -553.725525  224.122391  978.069153      2.929161 -197.398544   \n4    -552.639099  223.441132  979.258057      3.044172 -197.905212   \n...          ...         ...         ...           ...         ...   \n3995 -440.824341  226.126068  972.912292      1.760206  -63.359879   \n3996 -441.745270  225.849884  971.142273      2.112327  -63.992321   \n3997 -443.325378  225.408127  970.026123      1.982109  -64.456924   \n3998 -445.259003  225.209061  969.582520      1.904915  -65.013855   \n3999 -447.437347  224.969406  969.087341      1.810315  -65.391792   \n\n            T8_y        T8_z  T8_unknown       T15_x       T15_y  ...  \\\n0     307.712860  780.524841    2.306027   57.767254  304.062531  ...   \n1     306.634735  781.833496    1.818279   58.486240  303.271820  ...   \n2     305.134888  782.886902    0.865028   58.954975  302.786652  ...   \n3     303.622101  784.491760    1.078106   59.357685  302.991974  ...   \n4     302.154510  786.777222    1.112610   59.720127  302.331299  ...   \n...          ...         ...         ...         ...         ...  ...   \n3995  208.453323  794.693970    0.764555  202.952484  214.636948  ...   \n3996  209.072723  793.198853    0.746758  202.626144  215.336670  ...   \n3997  209.692566  791.991028    0.824410  202.525757  215.874710  ...   \n3998  210.744949  790.916870    0.988608  202.469131  216.429947  ...   \n3999  212.050415  789.886963    1.002301  202.536743  217.270737  ...   \n\n      Tarsus_L_unknown   Fetl_LH_x   Fetl_LH_y   Fetl_LH_z  Fetl_LH_unknown  \\\n0             0.655783  351.911530  213.371140  124.607330         0.777076   \n1             0.149920  344.841858  217.778244  124.699272         0.721445   \n2             0.907110  338.007874  222.316910  124.432686         0.702477   \n3             0.869310  331.179749  226.665207  124.176414         0.660892   \n4             0.955275  324.350555  230.890381  123.593819         0.556543   \n...                ...         ...         ...         ...              ...   \n3995          1.163501  668.258972   99.918739  116.325233         1.649464   \n3996          1.418628  659.694519  100.616386  115.604866         1.683566   \n3997          1.478843  650.000488  100.346230  115.229919         2.536987   \n3998          1.253583  640.394958  102.187538  114.185860         2.556931   \n3999          1.137098  630.189331  103.221771  114.037025         2.359510   \n\n       Hoof_LH_x   Hoof_LH_y  Hoof_LH_z  Hoof_LH_unknown  FrameRate  \n0     366.633636  208.959671  61.190224         1.165402        200  \n1     358.236267  214.954132  60.818562         1.346640        200  \n2     349.764160  220.625397  60.060818         1.154190        200  \n3     341.338837  226.140579  58.915882         0.950357        200  \n4     332.656433  231.378357  57.439835         0.831671        200  \n...          ...         ...        ...              ...        ...  \n3995  718.653564   90.989746  72.394737         1.978567        200  \n3996  709.024536   90.713402  72.236969         1.829671        200  \n3997  698.965271   92.284508  70.202408         1.889032        200  \n3998  688.061340   92.561897  68.899651         1.689516        200  \n3999  676.381897   92.529633  67.645157         1.779596        200  \n\n[4000 rows x 113 columns]",
      "text/html": "<div>\n<style scoped>\n    .dataframe tbody tr th:only-of-type {\n        vertical-align: middle;\n    }\n\n    .dataframe tbody tr th {\n        vertical-align: top;\n    }\n\n    .dataframe thead th {\n        text-align: right;\n    }\n</style>\n<table border=\"1\" class=\"dataframe\">\n  <thead>\n    <tr style=\"text-align: right;\">\n      <th></th>\n      <th>Poll_x</th>\n      <th>Poll_y</th>\n      <th>Poll_z</th>\n      <th>Poll_unknown</th>\n      <th>T8_x</th>\n      <th>T8_y</th>\n      <th>T8_z</th>\n      <th>T8_unknown</th>\n      <th>T15_x</th>\n      <th>T15_y</th>\n      <th>...</th>\n      <th>Tarsus_L_unknown</th>\n      <th>Fetl_LH_x</th>\n      <th>Fetl_LH_y</th>\n      <th>Fetl_LH_z</th>\n      <th>Fetl_LH_unknown</th>\n      <th>Hoof_LH_x</th>\n      <th>Hoof_LH_y</th>\n      <th>Hoof_LH_z</th>\n      <th>Hoof_LH_unknown</th>\n      <th>FrameRate</th>\n    </tr>\n  </thead>\n  <tbody>\n    <tr>\n      <th>0</th>\n      <td>-560.922363</td>\n      <td>233.692276</td>\n      <td>977.960938</td>\n      <td>0.495078</td>\n      <td>-195.458160</td>\n      <td>307.712860</td>\n      <td>780.524841</td>\n      <td>2.306027</td>\n      <td>57.767254</td>\n      <td>304.062531</td>\n      <td>...</td>\n      <td>0.655783</td>\n      <td>351.911530</td>\n      <td>213.371140</td>\n      <td>124.607330</td>\n      <td>0.777076</td>\n      <td>366.633636</td>\n      <td>208.959671</td>\n      <td>61.190224</td>\n      <td>1.165402</td>\n      <td>200</td>\n    </tr>\n    <tr>\n      <th>1</th>\n      <td>-558.775208</td>\n      <td>232.062744</td>\n      <td>978.336975</td>\n      <td>0.604814</td>\n      <td>-195.913132</td>\n      <td>306.634735</td>\n      <td>781.833496</td>\n      <td>1.818279</td>\n      <td>58.486240</td>\n      <td>303.271820</td>\n      <td>...</td>\n      <td>0.149920</td>\n      <td>344.841858</td>\n      <td>217.778244</td>\n      <td>124.699272</td>\n      <td>0.721445</td>\n      <td>358.236267</td>\n      <td>214.954132</td>\n      <td>60.818562</td>\n      <td>1.346640</td>\n      <td>200</td>\n    </tr>\n    <tr>\n      <th>2</th>\n      <td>-556.945679</td>\n      <td>230.355881</td>\n      <td>978.746765</td>\n      <td>0.775821</td>\n      <td>-196.926895</td>\n      <td>305.134888</td>\n      <td>782.886902</td>\n      <td>0.865028</td>\n      <td>58.954975</td>\n      <td>302.786652</td>\n      <td>...</td>\n      <td>0.907110</td>\n      <td>338.007874</td>\n      <td>222.316910</td>\n      <td>124.432686</td>\n      <td>0.702477</td>\n      <td>349.764160</td>\n      <td>220.625397</td>\n      <td>60.060818</td>\n      <td>1.154190</td>\n      <td>200</td>\n    </tr>\n    <tr>\n      <th>3</th>\n      <td>-553.725525</td>\n      <td>224.122391</td>\n      <td>978.069153</td>\n      <td>2.929161</td>\n      <td>-197.398544</td>\n      <td>303.622101</td>\n      <td>784.491760</td>\n      <td>1.078106</td>\n      <td>59.357685</td>\n      <td>302.991974</td>\n      <td>...</td>\n      <td>0.869310</td>\n      <td>331.179749</td>\n      <td>226.665207</td>\n      <td>124.176414</td>\n      <td>0.660892</td>\n      <td>341.338837</td>\n      <td>226.140579</td>\n      <td>58.915882</td>\n      <td>0.950357</td>\n      <td>200</td>\n    </tr>\n    <tr>\n      <th>4</th>\n      <td>-552.639099</td>\n      <td>223.441132</td>\n      <td>979.258057</td>\n      <td>3.044172</td>\n      <td>-197.905212</td>\n      <td>302.154510</td>\n      <td>786.777222</td>\n      <td>1.112610</td>\n      <td>59.720127</td>\n      <td>302.331299</td>\n      <td>...</td>\n      <td>0.955275</td>\n      <td>324.350555</td>\n      <td>230.890381</td>\n      <td>123.593819</td>\n      <td>0.556543</td>\n      <td>332.656433</td>\n      <td>231.378357</td>\n      <td>57.439835</td>\n      <td>0.831671</td>\n      <td>200</td>\n    </tr>\n    <tr>\n      <th>...</th>\n      <td>...</td>\n      <td>...</td>\n      <td>...</td>\n      <td>...</td>\n      <td>...</td>\n      <td>...</td>\n      <td>...</td>\n      <td>...</td>\n      <td>...</td>\n      <td>...</td>\n      <td>...</td>\n      <td>...</td>\n      <td>...</td>\n      <td>...</td>\n      <td>...</td>\n      <td>...</td>\n      <td>...</td>\n      <td>...</td>\n      <td>...</td>\n      <td>...</td>\n      <td>...</td>\n    </tr>\n    <tr>\n      <th>3995</th>\n      <td>-440.824341</td>\n      <td>226.126068</td>\n      <td>972.912292</td>\n      <td>1.760206</td>\n      <td>-63.359879</td>\n      <td>208.453323</td>\n      <td>794.693970</td>\n      <td>0.764555</td>\n      <td>202.952484</td>\n      <td>214.636948</td>\n      <td>...</td>\n      <td>1.163501</td>\n      <td>668.258972</td>\n      <td>99.918739</td>\n      <td>116.325233</td>\n      <td>1.649464</td>\n      <td>718.653564</td>\n      <td>90.989746</td>\n      <td>72.394737</td>\n      <td>1.978567</td>\n      <td>200</td>\n    </tr>\n    <tr>\n      <th>3996</th>\n      <td>-441.745270</td>\n      <td>225.849884</td>\n      <td>971.142273</td>\n      <td>2.112327</td>\n      <td>-63.992321</td>\n      <td>209.072723</td>\n      <td>793.198853</td>\n      <td>0.746758</td>\n      <td>202.626144</td>\n      <td>215.336670</td>\n      <td>...</td>\n      <td>1.418628</td>\n      <td>659.694519</td>\n      <td>100.616386</td>\n      <td>115.604866</td>\n      <td>1.683566</td>\n      <td>709.024536</td>\n      <td>90.713402</td>\n      <td>72.236969</td>\n      <td>1.829671</td>\n      <td>200</td>\n    </tr>\n    <tr>\n      <th>3997</th>\n      <td>-443.325378</td>\n      <td>225.408127</td>\n      <td>970.026123</td>\n      <td>1.982109</td>\n      <td>-64.456924</td>\n      <td>209.692566</td>\n      <td>791.991028</td>\n      <td>0.824410</td>\n      <td>202.525757</td>\n      <td>215.874710</td>\n      <td>...</td>\n      <td>1.478843</td>\n      <td>650.000488</td>\n      <td>100.346230</td>\n      <td>115.229919</td>\n      <td>2.536987</td>\n      <td>698.965271</td>\n      <td>92.284508</td>\n      <td>70.202408</td>\n      <td>1.889032</td>\n      <td>200</td>\n    </tr>\n    <tr>\n      <th>3998</th>\n      <td>-445.259003</td>\n      <td>225.209061</td>\n      <td>969.582520</td>\n      <td>1.904915</td>\n      <td>-65.013855</td>\n      <td>210.744949</td>\n      <td>790.916870</td>\n      <td>0.988608</td>\n      <td>202.469131</td>\n      <td>216.429947</td>\n      <td>...</td>\n      <td>1.253583</td>\n      <td>640.394958</td>\n      <td>102.187538</td>\n      <td>114.185860</td>\n      <td>2.556931</td>\n      <td>688.061340</td>\n      <td>92.561897</td>\n      <td>68.899651</td>\n      <td>1.689516</td>\n      <td>200</td>\n    </tr>\n    <tr>\n      <th>3999</th>\n      <td>-447.437347</td>\n      <td>224.969406</td>\n      <td>969.087341</td>\n      <td>1.810315</td>\n      <td>-65.391792</td>\n      <td>212.050415</td>\n      <td>789.886963</td>\n      <td>1.002301</td>\n      <td>202.536743</td>\n      <td>217.270737</td>\n      <td>...</td>\n      <td>1.137098</td>\n      <td>630.189331</td>\n      <td>103.221771</td>\n      <td>114.037025</td>\n      <td>2.359510</td>\n      <td>676.381897</td>\n      <td>92.529633</td>\n      <td>67.645157</td>\n      <td>1.779596</td>\n      <td>200</td>\n    </tr>\n  </tbody>\n</table>\n<p>4000 rows × 113 columns</p>\n</div>"
     },
     "metadata": {},
     "output_type": "display_data"
    }
   ],
   "source": [
    "# Specify horse name and the time point \n",
    "horse_name = \"horseA\"\n",
    "time_point = \"T0\"\n",
    "\n",
    "# Create file name variable use the Path to create filepaths that work on any typ of opertating system (Windows, Mac or Linux)\n",
    "file_name = Path(datapath) / Path(f\"{time_point}_{horse_name}_trot1.csv\")\n",
    "\n",
    "# Create a pandas dataframe, a dataframe holds tabular data\n",
    "df = pd.read_csv(file_name)\n",
    "\n",
    "# Print the data frame to show a cropped version of the table\n",
    "display(df)\n"
   ],
   "metadata": {
    "collapsed": false,
    "ExecuteTime": {
     "end_time": "2023-08-23T13:41:36.958178451Z",
     "start_time": "2023-08-23T13:41:36.825167711Z"
    }
   },
   "id": "2468e4fffd6183ef"
  },
  {
   "cell_type": "markdown",
   "source": [
    "## Extract the ICE\n",
    "As you can see from the displayed data frame aboa each column holds a timeseries of data for a motion capture marker along one axis. For example, \n",
    "\n",
    "column 1: The *Poll* markers *x* position, i.e., the movement along the x axis\n",
    "column 2 : The *Poll* markers *y* position, i.e., the movement along the x axis\n",
    "etc\n",
    "\n",
    "We will work with three upper-body markers: Head ('Poll'), Withers ('T8') and the Pelvis ('TubSac'). You can define them below:"
   ],
   "metadata": {
    "collapsed": false
   },
   "id": "e8350c660901d8f5"
  },
  {
   "cell_type": "code",
   "execution_count": 66,
   "outputs": [
    {
     "name": "stdout",
     "output_type": "stream",
     "text": [
      "Upper body markers:\n"
     ]
    },
    {
     "data": {
      "text/plain": "['Poll', 'T8', 'TubSac']"
     },
     "metadata": {},
     "output_type": "display_data"
    }
   ],
   "source": [
    "markers_upper_body = ['Poll','T8','TubSac']  # Define the upper body markers"
   ],
   "metadata": {
    "collapsed": false,
    "ExecuteTime": {
     "end_time": "2023-08-23T13:41:36.958664226Z",
     "start_time": "2023-08-23T13:41:36.925062779Z"
    }
   },
   "id": "b46cd2fd17d260cd"
  },
  {
   "cell_type": "markdown",
   "source": [
    "For splitting the data into strides for the analysis, we will use the left hind hoof ('Hoof_LH') and the left hind fetlock ('Fetl_LH') markers."
   ],
   "metadata": {
    "collapsed": false
   },
   "id": "3375f037b580bac3"
  },
  {
   "cell_type": "code",
   "execution_count": 67,
   "outputs": [
    {
     "name": "stdout",
     "output_type": "stream",
     "text": [
      "Stride split markers:\n"
     ]
    },
    {
     "data": {
      "text/plain": "['Hoof_LH', 'Fetl_LH']"
     },
     "metadata": {},
     "output_type": "display_data"
    }
   ],
   "source": [
    "markers_stride_split = ['Hoof_LH','Fetl_LH']  # Define stride split markers"
   ],
   "metadata": {
    "collapsed": false,
    "ExecuteTime": {
     "end_time": "2023-08-23T13:41:36.959003174Z",
     "start_time": "2023-08-23T13:41:36.925266583Z"
    }
   },
   "id": "af4d33a4ffe2158b"
  },
  {
   "cell_type": "markdown",
   "source": [
    "We also need to define the movement axis' that we have, and the frame rate,"
   ],
   "metadata": {
    "collapsed": false
   },
   "id": "e08d25e52f5221bd"
  },
  {
   "cell_type": "code",
   "execution_count": 71,
   "outputs": [],
   "source": [
    "axis = [\"x\", \"y\", \"z\"]  # Define the cartesian axis'\n",
    "\n",
    "fs = df[\"FrameRate\"][0]  # Save the framerate, the '0' here means we only extract the values from the first frame of the data"
   ],
   "metadata": {
    "collapsed": false,
    "ExecuteTime": {
     "end_time": "2023-08-23T13:44:40.210420968Z",
     "start_time": "2023-08-23T13:44:40.196815141Z"
    }
   },
   "id": "a9a4a5dc495f6af"
  },
  {
   "cell_type": "markdown",
   "source": [
    "Now we can create a time vector, the same length as our timeseries data (the number of rows in the dataframe),"
   ],
   "metadata": {
    "collapsed": false
   },
   "id": "693af389a06a05ac"
  },
  {
   "cell_type": "code",
   "execution_count": 74,
   "outputs": [],
   "source": [
    "time = np.linspace(0, (len(df)-1)/fs, len(df))"
   ],
   "metadata": {
    "collapsed": false,
    "ExecuteTime": {
     "end_time": "2023-08-23T13:45:01.378973779Z",
     "start_time": "2023-08-23T13:45:01.360250708Z"
    }
   },
   "id": "4d8dcf0a38d7ab89"
  },
  {
   "cell_type": "markdown",
   "source": [
    "## Plot the trajectories of interest\n"
   ],
   "metadata": {
    "collapsed": false
   },
   "id": "765efc1fc5d635"
  },
  {
   "cell_type": "code",
   "execution_count": null,
   "outputs": [],
   "source": [],
   "metadata": {
    "collapsed": false
   },
   "id": "6ea1b70bcba1d2fb"
  }
 ],
 "metadata": {
  "kernelspec": {
   "display_name": "Python 3",
   "language": "python",
   "name": "python3"
  },
  "language_info": {
   "codemirror_mode": {
    "name": "ipython",
    "version": 2
   },
   "file_extension": ".py",
   "mimetype": "text/x-python",
   "name": "python",
   "nbconvert_exporter": "python",
   "pygments_lexer": "ipython2",
   "version": "2.7.6"
  }
 },
 "nbformat": 4,
 "nbformat_minor": 5
}
