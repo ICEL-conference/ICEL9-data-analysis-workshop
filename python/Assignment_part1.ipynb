{
 "cells": [
  {
   "cell_type": "markdown",
   "id": "6a270df096bad3",
   "metadata": {},
   "source": [
    "# ICEL9 Data Analysis Workshop\n",
    "Python version - Christoffer Roepstorff, collaboration with J.I.M Parmentier\n",
    "\n",
    "### Skeleton of the assignment - part 1 (Looking at 1 file)\n",
    "1. Declare the datapath and different needed information (e.g., horses identifiers, markers of interest) and load the file\n",
    "2. Extract information (labels (marker names), markers' trajectories, sampling rate, measurement duration), create a time vector, extract the trajectories of interest\n",
    "3. Visualise the data, see that some data have missing samples (Motion Capture)\n",
    "4. Deal with missing samples, if missing samples are less than 3 \n",
    "5. Extract the segment of interest (no missing data)\n",
    "6. Explore the effect of mean removal, fitlering \n",
    "7. Stride split, based on LH hoof or LH fetlock (why LH? discuss it during the workshop)\n",
    "8. Extract the parameters of interest\n",
    "9. Save the parameters in a table (e.g., csv file)"
   ]
  },
  {
   "cell_type": "markdown",
   "id": "4b866225c46fb18",
   "metadata": {},
   "source": [
    "## I. Load data and declare variables of interest\n",
    "Before any data is loaded we need to import the packages we are going to use in this notebook."
   ]
  },
  {
   "cell_type": "code",
   "execution_count": null,
   "id": "ea61ae04dff612d2",
   "metadata": {
    "ExecuteTime": {
     "end_time": "2023-08-24T10:17:22.563669210Z",
     "start_time": "2023-08-24T10:17:14.624436310Z"
    }
   },
   "outputs": [],
   "source": [
    "import pandas as pd  # Pandas helps us handle tabular data and load the .csv files\n",
    "import numpy as np  # Matrix manipulation and math library with matlab similar syntax\n",
    "import ipywidgets as widgets  # Widgets for this notebook\n",
    "import plotly.graph_objects as go  # Used for plotting\n",
    "from plotly.subplots import make_subplots  # Used for plotting\n",
    "import plotly\n",
    "import scipy as sc\n",
    "from pathlib import Path  # Handles directory and file paths for different operating systems"
   ]
  },
  {
   "cell_type": "markdown",
   "id": "f790a63fcdcc666b",
   "metadata": {},
   "source": [
    "To load the data, you need to first define a datapath. You can copy-paste below where your data is located (the relative path to the repo data folder should work out of the box). We will use our first imported library to load the csv file of **horseA** at time point **TO**.:"
   ]
  },
  {
   "cell_type": "code",
   "execution_count": null,
   "id": "2468e4fffd6183ef",
   "metadata": {
    "ExecuteTime": {
     "end_time": "2023-08-24T10:17:22.564412328Z",
     "start_time": "2023-08-24T10:17:14.848917483Z"
    }
   },
   "outputs": [],
   "source": [
    "# Specify the data path\n",
    "datapath = Path(\"../data\")\n",
    "\n",
    "# Specify horse name and the time point \n",
    "horse_name = \"horseA\"\n",
    "time_point = \"T0\"\n",
    "\n",
    "# Create file name variable use the Path to create filepaths that work on any typ of operating system (Windows, Mac or Linux)\n",
    "file_name = datapath / Path(f\"{time_point}_{horse_name}_trot1.csv\")\n",
    "\n",
    "# Create a pandas dataframe, a dataframe holds tabular data\n",
    "df = pd.read_csv(file_name)\n",
    "\n",
    "# Print the data frame to show a cropped version of the table\n",
    "display(df)\n"
   ]
  },
  {
   "cell_type": "markdown",
   "id": "e8350c660901d8f5",
   "metadata": {},
   "source": [
    "As you can see from the displayed data frame abova each column holds a timeseries of data for a motion capture marker along one axis. For example, \n",
    "\n",
    "column 1: The `Poll` markers `x` position, i.e., the movement along the x-axis (cranio-caudal)\n",
    "\n",
    "column 2 : The `Poll` markers `y` position, i.e., the movement along the y-axis (medio-lateral)\n",
    "\n",
    "column 3 : The `Poll` markers `z` position, i.e., the movement along the z-axis (vertical)\n",
    "\n",
    "etc\n",
    "\n",
    "We will work with three upper-body markers: Head (`Poll`), Withers (`T8`) and the Pelvis (`TubSac`) and two stride split markers hoof (`Hoof_LH`) and fetlock (`fetl_HL`). Next we will define the marker and axis labels so that we can extract timeseries data from our [dataframe](https://pandas.pydata.org/docs/reference/api/pandas.DataFrame.html). \n"
   ]
  },
  {
   "cell_type": "code",
   "execution_count": null,
   "id": "b46cd2fd17d260cd",
   "metadata": {
    "ExecuteTime": {
     "end_time": "2023-08-24T10:17:22.564473884Z",
     "start_time": "2023-08-24T10:17:14.874237369Z"
    }
   },
   "outputs": [],
   "source": [
    "markers_upper_body = ['Poll','T8','TubSac']   # Declare upper body markers\n",
    "markers_stride_split = ['Hoof_LH','Fetl_LH']  # Declare stride split markers\n",
    "axis = [\"x\", \"y\", \"z\"]  # Declare the cartesian coordinate identifiers\n",
    "axis_description = [\"\"]"
   ]
  },
  {
   "cell_type": "markdown",
   "id": "64d625661b7b7c77",
   "metadata": {},
   "source": [
    "## II. Extract the trajectories\n",
    "Using our newly declared variables we can create strings by concatenating marker and axis strings and use these select the timeseries we want from our dataframe. The last column in th data frame hold the framerate we will use this to create a time vector.\n",
    "\n",
    "<div class=\"alert alert-block alert-info\">\n",
    "<b>Note:</b><br>In the code below we will also use some code to create widgets for selecting different marker and axis combinations. This way you don't have to change any code but can just use the created dropdown instead.\n",
    "</div>"
   ]
  },
  {
   "cell_type": "code",
   "execution_count": null,
   "id": "a9a4a5dc495f6af",
   "metadata": {
    "ExecuteTime": {
     "end_time": "2023-08-24T10:17:22.564520973Z",
     "start_time": "2023-08-24T10:17:14.917005648Z"
    }
   },
   "outputs": [],
   "source": [
    "# Save the framerate, the '0' here means we only extract the values from the first frame of the data\n",
    "fs = df[\"FrameRate\"][0] \n",
    "\n",
    "# Now we can create a time vector, the same length as our timeseries data (the number of rows in the dataframe)\n",
    "time = np.linspace(0, (len(df)-1)/fs, len(df)) \n",
    "\n",
    "# Create widgets\n",
    "upbm_dropdown = widgets.Dropdown(options=markers_upper_body, value=markers_upper_body[0], description='Upper body marker:', style={'description_width': 'initial'})\n",
    "a_dropdown = widgets.Dropdown(options=axis, value=axis[2], description='Axis:', style={'description_width': 'initial'})\n"
   ]
  },
  {
   "cell_type": "markdown",
   "id": "332d14c8",
   "metadata": {},
   "source": [
    "Select marker and axis:"
   ]
  },
  {
   "cell_type": "code",
   "execution_count": null,
   "id": "793f503c",
   "metadata": {
    "ExecuteTime": {
     "end_time": "2023-08-24T10:17:22.564662229Z",
     "start_time": "2023-08-24T10:17:14.917594977Z"
    }
   },
   "outputs": [],
   "source": [
    "display(upbm_dropdown)\n",
    "display(a_dropdown)"
   ]
  },
  {
   "cell_type": "markdown",
   "id": "765efc1fc5d635",
   "metadata": {},
   "source": [
    "## III. Plot the trajectories of interest\n",
    "Visualizing data is always important. In this segment we will showcase a few examples of how timeseries data can be plotted.\n",
    "\n",
    "### Single trajectory and axis plot (uses the dropdown selection above)"
   ]
  },
  {
   "cell_type": "code",
   "execution_count": null,
   "id": "6ea1b70bcba1d2fb",
   "metadata": {
    "ExecuteTime": {
     "end_time": "2023-08-24T10:17:22.614270661Z",
     "start_time": "2023-08-24T10:17:14.917773743Z"
    }
   },
   "outputs": [],
   "source": [
    "# Get trajectory selection from widgets\n",
    "selected_axis = a_dropdown.value\n",
    "selected_marker = upbm_dropdown.value\n",
    "selected_trajectory = df[f\"{selected_marker}_{selected_axis}\"]\n",
    "\n",
    "# Create a figure and a trace\n",
    "fig = go.Figure().add_trace(go.Scatter(x=time, y=selected_trajectory, name=f\"{selected_marker} {selected_axis}\"))\n",
    "fig.update_layout(xaxis_title=\"Time (s)\", yaxis_title=\"Amplitude (mm)\", title=f\"{selected_axis}-axis displacement of the {selected_marker} marker\")\n",
    "fig.show()\n"
   ]
  },
  {
   "cell_type": "markdown",
   "id": "34c318df",
   "metadata": {},
   "source": [
    "### Plotting multiple markers (uses axis selection dropdown above)"
   ]
  },
  {
   "cell_type": "code",
   "execution_count": null,
   "id": "47fe2529",
   "metadata": {
    "ExecuteTime": {
     "end_time": "2023-08-24T10:17:22.616459681Z",
     "start_time": "2023-08-24T10:17:15.084722881Z"
    }
   },
   "outputs": [],
   "source": [
    "# Get trajectory selection from widgets\n",
    "selected_axis = a_dropdown.value\n",
    "\n",
    "# Create a figure and a trace\n",
    "fig = go.Figure()\n",
    "for marker in markers_upper_body:\n",
    "    selected_trajectory = df[f\"{marker}_{selected_axis}\"]\n",
    "    fig.add_trace(go.Scatter(x=time, y=selected_trajectory, name=f\"{marker} {selected_axis}\"))\n",
    "\n",
    "fig.update_layout(xaxis_title=\"Time (s)\", yaxis_title=\"Amplitude (mm)\", title=f\"{selected_axis}-axis displacement of {markers_upper_body} markers\")\n",
    "fig.show()"
   ]
  },
  {
   "cell_type": "markdown",
   "id": "7840b09f",
   "metadata": {},
   "source": [
    "### All markers and axis using subplots"
   ]
  },
  {
   "cell_type": "code",
   "execution_count": null,
   "id": "87a95734",
   "metadata": {
    "ExecuteTime": {
     "end_time": "2023-08-24T10:17:22.621257631Z",
     "start_time": "2023-08-24T10:17:15.106968972Z"
    }
   },
   "outputs": [],
   "source": [
    "# Create subplot figure\n",
    "fig = make_subplots(rows=len(markers_upper_body), cols=1, subplot_titles=markers_upper_body)\n",
    "\n",
    "# Loop over both markers and axis\n",
    "for marker_cnt, marker in enumerate(markers_upper_body):\n",
    "    for ax in axis:\n",
    "        selected_trajectory = df[f\"{marker}_{ax}\"]\n",
    "        fig.add_trace(go.Scatter(x=time, y=selected_trajectory, name=f\"{marker} {ax}\"), row=marker_cnt+1, col=1)\n",
    "\n",
    "        fig.update_yaxes(title=\"Amplitude (mm)\", row=marker_cnt+1, col=1)\n",
    "fig.update_xaxes(title=\"Time(s)\", row=len(markers_upper_body), col=1)\n",
    "fig.show()"
   ]
  },
  {
   "cell_type": "markdown",
   "id": "d546611f",
   "metadata": {},
   "source": [
    "## IV. Deal with missing samples\n",
    "When you look at the `Poll` marker plot above you notice that there are samples that have missing values (look between ~4 and ~6 seconds). One way to deal with missing samples is interpolation, in this section we explore a few different type of interpolation methods and look at their effects on the data."
   ]
  },
  {
   "cell_type": "code",
   "execution_count": null,
   "id": "451c2258",
   "metadata": {
    "ExecuteTime": {
     "end_time": "2023-08-24T10:17:22.621645070Z",
     "start_time": "2023-08-24T10:17:15.301978784Z"
    }
   },
   "outputs": [],
   "source": [
    "# Import local functions\n",
    "from missing_samples import fill_missing, InterpolationEnum\n",
    "\n",
    "# Create widget for interpolation options\n",
    "fm_dropdown = widgets.Dropdown(options=[opt.name for opt in InterpolationEnum], value=InterpolationEnum.nearest.name, description='Interpolation method:', style={'description_width': 'initial'})\n",
    "display(fm_dropdown)\n",
    "\n",
    "# Slider for selecting max gap length\n",
    "ml_slider = widgets.IntSlider(value=30, min=0, max=fs, step=1, description='Max gap-length (#frames):', orientation='horizontal', readout=True, readout_format='d')\n",
    "display(ml_slider)\n",
    "\n",
    "# Create widget for degree (used by the spline method)\n",
    "d_dropdown = widgets.Dropdown(options=[1, 2, 3, 4, 5], value=2, description=\"Degree (used by 'spline' method)\", style={'description_width': 'initial'})\n",
    "display(d_dropdown)"
   ]
  },
  {
   "cell_type": "code",
   "execution_count": null,
   "id": "84cd14878c24fbc3",
   "metadata": {
    "ExecuteTime": {
     "end_time": "2023-08-24T10:17:56.015765696Z",
     "start_time": "2023-08-24T10:17:55.540984018Z"
    }
   },
   "outputs": [],
   "source": [
    "# Get selected interpolation\n",
    "selected_interpolation = InterpolationEnum[fm_dropdown.value]\n",
    "\n",
    "# # Get poll vertical displacement\n",
    "z_raw = df[\"Poll_z\"]\n",
    "# \n",
    "z_filled, z_fill_only = selected_interpolation.fill_missing(data=z_raw.to_numpy(), k=d_dropdown.value, max_gap_length=ml_slider.value)\n",
    "fig = go.Figure()\n",
    "fig.add_trace(go.Scatter(x=time, y=z_filled, name=\"filled\"))\n",
    "fig.add_trace(go.Scatter(x=time, y=z_fill_only, name=\"fill\"))\n",
    "\n",
    "fig.update_layout(yaxis_title=\"Amplitude (mm)\", xaxis_title=\"Time (s)\")\n",
    "fig.show()"
   ]
  },
  {
   "cell_type": "markdown",
   "id": "2fe2d09d",
   "metadata": {},
   "source": [
    "## V. Extract segement without missing data\n",
    "It is possible to gapfill any length of missing data but that migh not always be the best alternative. It is sometimes better to only select a range of data that is entirely finite. Select a range of the `Poll` data that has no missing frames."
   ]
  },
  {
   "cell_type": "code",
   "execution_count": null,
   "id": "9cb60809",
   "metadata": {},
   "outputs": [],
   "source": [
    "# Create range slider\n",
    "ra_slider = widgets.FloatRangeSlider(value=[5.3, 11.5], min=0, max=np.max(time), step=0.01, description='Select finite range:', orientation='horizontal',readout=True,readout_format='.2f', style={'description_width': 'initial'})\n",
    "display(ra_slider)"
   ]
  },
  {
   "cell_type": "markdown",
   "id": "47442b56",
   "metadata": {},
   "source": [
    "Below is a visualization of the selected range for `z-axis` data for the upper body"
   ]
  },
  {
   "cell_type": "code",
   "execution_count": null,
   "id": "c419321e",
   "metadata": {},
   "outputs": [],
   "source": [
    "# Calculate start and end frames based on range selection\n",
    "start_index = np.argmin(np.abs(time-ra_slider.value[0]))\n",
    "end_index = np.argmin(np.abs(time-ra_slider.value[1]))\n",
    "\n",
    "# Plot selected segment upper body\n",
    "fig = make_subplots(rows=len(markers_upper_body), cols=1, subplot_titles=markers_upper_body)\n",
    "\n",
    "# Loop over markers\n",
    "for marker_cnt, marker in enumerate(markers_upper_body):\n",
    "    selected_trajectory = df[f\"{marker}_z\"]\n",
    "    fig.add_trace(go.Scatter(x=time[start_index:end_index], y=selected_trajectory[start_index:end_index], name=f\"{marker} z\"), row=marker_cnt+1, col=1)\n",
    "\n",
    "    fig.update_yaxes(title=\"Amplitude (mm)\", row=marker_cnt+1, col=1)\n",
    "    \n",
    "fig.update_xaxes(title=\"Time(s)\", row=len(markers_upper_body), col=1)\n",
    "fig.show()"
   ]
  },
  {
   "cell_type": "markdown",
   "id": "3fdcb0df",
   "metadata": {},
   "source": [
    "Below are the plots for the `z-axis` hoof and fetlock data"
   ]
  },
  {
   "cell_type": "code",
   "execution_count": null,
   "id": "f04209f0",
   "metadata": {},
   "outputs": [],
   "source": [
    "fig = make_subplots(rows=len(markers_upper_body), cols=1, subplot_titles=markers_stride_split)\n",
    "\n",
    "# Loop over markers\n",
    "for marker_cnt, marker in enumerate(markers_stride_split):\n",
    "    selected_trajectory = df[f\"{marker}_z\"]\n",
    "    fig.add_trace(go.Scatter(x=time[start_index:end_index], y=selected_trajectory[start_index:end_index], name=f\"{marker} z\"), row=marker_cnt+1, col=1)\n",
    "\n",
    "    fig.update_yaxes(title=\"Amplitude (mm)\", row=marker_cnt+1, col=1)\n",
    "    \n",
    "fig.update_xaxes(title=\"Time(s)\", row=len(markers_stride_split), col=1)\n",
    "fig.show()"
   ]
  },
  {
   "cell_type": "markdown",
   "id": "6b1e2162",
   "metadata": {},
   "source": [
    "## VI. Prepare your data with mean removal, filtering, etc.\n",
    "Now that you have extracted a segment of interest, we can prepare it for data analysis. Usually, we remove:\n",
    " - movement artifacts (e.g., large head movements)\n",
    " - Noise (e.g., noise related to the data collection process)\n",
    " - Others\n",
    " \n",
    "Today, we are going to look at the effect of different filters on the data. First we begin by removbing the mean and plotting the *amplitude spectrum* of the `Poll z` data, that does not have any missing values.\n",
    "\n",
    "The amplitude spectrum can be plotted by using the Fast Fourier Transform (FFT)\n",
    "<div class=\"alert alert-block alert-info\">\n",
    "<b>Note:</b><br>The FFT will not work on data has has missing values in it (nan for exmaple). Neither will it work properly unless we remove the mean or detrend the data. Very large movement (like can be seen in the poll movement of horseA T0) can also disturb.\n",
    "</div>"
   ]
  },
  {
   "cell_type": "code",
   "execution_count": null,
   "id": "7e5802b5",
   "metadata": {},
   "outputs": [],
   "source": [
    "# Get the poll z segment from the dataframe and index using the defined start and end frames \n",
    "z_poll = df[f\"Poll_z\"].to_numpy()\n",
    "z_poll_segment = z_poll[start_index:end_index]\n",
    "time_segment = time[start_index:end_index]\n",
    "\n",
    "# Get signal length\n",
    "L = len(z_poll_segment);\n",
    "\n",
    "# FFT\n",
    "z_poll_segment_detrend = sc.signal.detrend(z_poll_segment)\n",
    "Y = np.fft.fft(z_poll_segment_detrend);\n",
    "\n",
    "# Extract the amplitude spectrum ba taking the abnsolute values of the complex valued transform\n",
    "amp = 2*np.abs(Y)/L;\n",
    "\n",
    "# Create a vector with frequencies\n",
    "f = fs*np.linspace(0,1,L);\n",
    "\n",
    "# Plot the detrended signal and the frequency spectrum\n",
    "fig = make_subplots(rows=2, cols=1)\n",
    "fig.add_trace(go.Scatter(x=time_segment, y=z_poll_segment_detrend, name=\"Detrended signal\"), row=1, col=1)\n",
    "fig.update_xaxes(title=\"Time (s)\", row=1, col=1)\n",
    "fig.update_yaxes(title=\"Amplitude (mm)\", row=1, col=1)\n",
    "\n",
    "# Plot the amplitude spectrum\n",
    "fig.add_trace(go.Scatter(x=f, y=amp, name=\"Amplitude spectrum\"), row=2, col=1)\n",
    "fig.update_xaxes(title=\"Frequency (Hz)\", row=2, col=1)\n",
    "fig.update_yaxes(title=\"Amplitude (mm)\", row=2, col=1)\n",
    "\n",
    "# Limit the plot range to only show the interesting frequencies\n",
    "fig.update_xaxes(range=[0, 10], row=2, col=1)\n",
    "fig.show()\n"
   ]
  },
  {
   "cell_type": "markdown",
   "id": "8a93e4b2",
   "metadata": {},
   "source": [
    "Do you see a clear and distinctive peak around 3.5Hz? Now lets try and apply a filter to this segment, select a range of freqeuncies to include"
   ]
  },
  {
   "cell_type": "code",
   "execution_count": null,
   "id": "6e78e270",
   "metadata": {},
   "outputs": [],
   "source": [
    "# Create range slider\n",
    "raf_slider = widgets.FloatRangeSlider(value=[0.1, 9], min=0.01, max=10, step=0.01, description='Frequency range:', orientation='horizontal',readout=True,readout_format='.2f', style={'description_width': 'initial'})\n",
    "display(raf_slider)\n",
    "\n",
    "# Create order Int slider\n",
    "oi_slider = widgets.IntSlider(value=4, min=1, max=10, step=1, description='Filter order:', orientation='horizontal',readout=True,readout_format='.2f', style={'description_width': 'initial'})\n",
    "display(oi_slider)"
   ]
  },
  {
   "cell_type": "code",
   "execution_count": null,
   "id": "d3ad0f02",
   "metadata": {},
   "outputs": [],
   "source": [
    "# Low and high cut-off frequencies from slider selection\n",
    "order = oi_slider.value\n",
    "low, high = raf_slider.value \n",
    "\n",
    "# Create a function that can be called a little easier\n",
    "def sos_bandpass_filter(data: np.ndarray, frame_rate: float, low_cut: float, high_cut: float, \n",
    "                        order: int) -> np.ndarray:\n",
    "    \n",
    "    # Make the cutoffs reltive to nyqist frequency\n",
    "    low_n = low_cut/frame_rate*2\n",
    "    high_n = high_cut/frame_rate*2\n",
    "\n",
    "    # Create filter\n",
    "    sos = sc.signal.butter(order, [low_n, high_n], btype='band', output='sos')\n",
    "    \n",
    "    # Filter and return result\n",
    "    return sc.signal.sosfiltfilt(sos, data)\n",
    "\n",
    "# Filter the signal\n",
    "z_poll_filtered = sos_bandpass_filter(data=z_poll_segment, frame_rate=fs, low_cut=low, high_cut=high, order=order)\n",
    "\n",
    "# Plot the filtered signal and \n",
    "fig = go.Figure()\n",
    "fig.add_trace(go.Scatter(x=time_segment, y=z_poll_filtered, name=\"Filtered signal\"))\n",
    "fig.update_xaxes(title=\"Time (s)\")\n",
    "fig.update_yaxes(title=\"Amplitude (mm)\")\n",
    "fig.update_layout(title=f\"Filtered signal band-pass ({low:0.1f} - {high:0.1f} Hz)\")\n",
    "fig.show()\n"
   ]
  },
  {
   "cell_type": "markdown",
   "id": "0f694449",
   "metadata": {},
   "source": [
    "## VII. Stride Splitting\n",
    "Since trot is a cyclical movement, we can use limb data to stride-split. Conventionally, the different research groups have agreed to base the stride splitting on the left hind limb.\n",
    "If sensors or markers are available on the hoof, you can use these. Otherwise, you can use the metatarsus marker, or even the pelvis markers.\n",
    "\n",
    "In this example we will use either hoof or fetlock z-position (vertical movement),"
   ]
  },
  {
   "cell_type": "code",
   "execution_count": null,
   "id": "c95fddf2",
   "metadata": {},
   "outputs": [],
   "source": [
    "# Create widget for stride split selection\n",
    "sp_dropdown = widgets.Dropdown(options=markers_stride_split, value=markers_stride_split[0], description='Select marker for stride split:', style={'description_width': 'initial'})\n",
    "display(sp_dropdown)"
   ]
  },
  {
   "cell_type": "code",
   "execution_count": null,
   "id": "62db3592",
   "metadata": {},
   "outputs": [],
   "source": [
    "# Get the stridesplit timeseries, get marker from dataframe and directy slice to inlcude only the selected segment\n",
    "sp_timeseries = df[f\"{sp_dropdown.value}_z\"].to_numpy()[start_index:end_index]\n",
    "\n",
    "# Calculate the difference ie.e, the acceleration\n",
    "sp_acceleration = np.gradient(np.gradient(sp_timeseries/1000, 1/fs), 1/fs)\n",
    "\n",
    "# Plot the result\n",
    "fig = go.Figure()\n",
    "fig.add_trace(go.Scatter(x=time_segment, y=sp_timeseries))\n",
    "fig.update_xaxes(title=\"Time (s)\")\n",
    "fig.update_yaxes(title=\"Amplitude (mm)\")\n",
    "fig.update_layout(title=f\"{sp_dropdown.value} vertical displacement, frame {start_index} to {end_index}\")\n",
    "fig.show()\n",
    "\n",
    "fig = go.Figure()\n",
    "fig.add_trace(go.Scatter(x=time_segment, y=sp_acceleration))\n",
    "fig.update_xaxes(title=\"Time (s)\")\n",
    "fig.update_yaxes(title=\"Acceleration (m/s²)\")\n",
    "fig.update_layout(title=f\"{sp_dropdown.value} vertical speed, frame {start_index} to {end_index}\")\n",
    "fig.show()"
   ]
  },
  {
   "cell_type": "markdown",
   "id": "b3f7db15",
   "metadata": {},
   "source": [
    "Looking at the curves in the figures above we notice that there are cyclic occurences of minmas and maximas in the postion and spikes in the differentiated curve as well. \n",
    "\n",
    "One common way to extract features, in this case find indexes in that that split strides, is to look for peaks in the data. The scipy package has a nice function that takes some interesting arguments, we will look at two of them.\n",
    "\n",
    "1. **distance** set a minimum number of frames required between located peaks\n",
    "2. **prominence** require the peak to 'stand out' relative to its surroundings\n",
    "\n",
    "It appears as the differentiated signal has more clear spikes that seem to coincide with the timing of the stance phase. We will try to extract the strides from the acceleration signal."
   ]
  },
  {
   "cell_type": "code",
   "execution_count": null,
   "id": "3893a386",
   "metadata": {},
   "outputs": [],
   "source": [
    "fp_dist = widgets.FloatText(value=90, description='distance:', style={'description_width': 'initial'})\n",
    "display(fp_dist)\n",
    "\n",
    "fp_prom = widgets.FloatText(value=90, description='prominence:', style={'description_width': 'initial'})\n",
    "display(fp_prom)"
   ]
  },
  {
   "cell_type": "markdown",
   "id": "2b4bfe8d",
   "metadata": {},
   "source": [
    "<div class=\"alert alert-block alert-info\">\n",
    "    <b>Note:</b><br>In the matlab version of this workshop a function called <code>ischange</code>. Python can achieve similar functionality by installing a package called ruptures (<code>pip install ruptures</code>). If you install this in the enviroment you can uncomment ruptures part below to have test it out.\n",
    "</div>"
   ]
  },
  {
   "cell_type": "code",
   "execution_count": null,
   "id": "1363f387",
   "metadata": {
    "scrolled": false
   },
   "outputs": [],
   "source": [
    "# Use the findpeaks function with a distance and a prominence argument\n",
    "peak_indices, other = sc.signal.find_peaks(sp_acceleration, distance=fp_dist.value, prominence=fp_prom.value)\n",
    "\n",
    "## Change indices extraction using an external package\n",
    "# import ruptures as rpt\n",
    "# algo = rpt.Pelt(model=\"normal\").fit(sp_timeseries)\n",
    "# result = algo.predict(pen=100)\n",
    "# peak_indices = result[0:-1]\n",
    "# print(result)\n",
    "# print(peak_indices)\n",
    "\n",
    "# Get available colors in plotly\n",
    "colors = plotly.colors.qualitative.Plotly\n",
    "\n",
    "# Plot the peaks \n",
    "fig = go.Figure()\n",
    "fig.add_trace(go.Scatter(x=time_segment, y=sp_acceleration, name=f\"{sp_dropdown.value} vertical acceleration\"))\n",
    "fig.add_trace(go.Scatter(x=time_segment[peak_indices], y=sp_acceleration[peak_indices], mode=\"markers\", name=\"peaks\"))\n",
    "\n",
    "fig.update_xaxes(title=\"Time (s)\")\n",
    "fig.update_yaxes(title=\"Acceleration (m/s²)\")\n",
    "fig.update_layout(title=f\"{sp_dropdown.value} vertical speed, frame {start_index} to {end_index} distance: {fp_dist.value:.0f} prominence: {fp_prom.value}\")\n",
    "fig.show()\n",
    "\n",
    "# Plot the position\n",
    "fig = go.Figure()\n",
    "fig.add_trace(go.Scatter(x=time_segment, y=sp_timeseries, name=f\"{sp_dropdown.value} vertical movement\", showlegend=True))\n",
    "\n",
    "for peak_ind in peak_indices:\n",
    "    fig.add_vline(x=time_segment[peak_ind], line_width=1, line_dash=\"dash\", line_color=colors[1])\n",
    "    \n",
    "fig.update_xaxes(title=\"Time (s)\")\n",
    "fig.update_yaxes(title=\"Amplitude (mm)\")\n",
    "fig.update_layout(title=f\"{sp_dropdown.value} vertical movement, frame {start_index} to {end_index} distance: {fp_dist.value:.0f} prominence: {fp_prom.value}\")\n",
    "fig.show()\n",
    "\n",
    "# Show the stride split on some filtered head data\n",
    "fig = go.Figure()\n",
    "fig.add_trace(go.Scatter(x=time_segment, y=z_poll_filtered, name=f\"Poll filtered position\", showlegend=True))\n",
    "\n",
    "for peak_ind in peak_indices:\n",
    "    fig.add_vline(x=time_segment[peak_ind], line_width=1, line_dash=\"dash\", line_color=\"red\")\n",
    "\n",
    "fig.update_xaxes(title=\"Time (s)\")\n",
    "fig.update_yaxes(title=\"Amplitude (mm)\")\n",
    "fig.update_layout(title=f\"Filtered Poll vertical movement\")\n",
    "fig.show()\n"
   ]
  },
  {
   "cell_type": "markdown",
   "id": "b9f90452",
   "metadata": {},
   "source": [
    "## VIII Extract the variables\n",
    "Now that the stride split has been performed we can start to extract variables from the strides, we will focus on 3 metrics here,\n",
    "\n",
    "- stride duration\n",
    "- minDiff\n",
    "- maxDiff\n",
    "\n",
    "MinDiff is the difference of minimum reached during the left stance minus the minimum reached during the right stance.\n",
    "\n",
    "MaxDiff is the difference of maximum reached during the left stance minus the maximum reached during the right stance.\n",
    "\n",
    "For example, if the head reaches a minimum of -20mm during the left stance and -10mm during the right stance, the Head MinDiff is of (-20mm) - (-10mm) = -10mm.\n",
    "\n",
    "Thus, if a Head MinDiff is negative, the head is going lower during the left stance than during the right stance, indicating a right front limb asymmetry.\n",
    "\n",
    "Since we cut strides based on LH-on, the first valley/peak correspond to the impact/push-off of LH-RF respectively. \n",
    "\n",
    "Keep this in mind when defining which peak to substract to the other!\n",
    "\n",
    "Below we show the process for the `Poll` marker,"
   ]
  },
  {
   "cell_type": "code",
   "execution_count": null,
   "id": "bbbd03df",
   "metadata": {
    "scrolled": false
   },
   "outputs": [],
   "source": [
    "# Loop over our stride split and apply it to the extracted finite segment of poll vertical position.\n",
    "# Find the minimas and  maximas per stride and calculate differences. Alos calculate the duration of each stride\n",
    "\n",
    "# Prepare figure\n",
    "fig = go.Figure()\n",
    "fig2 = go.Figure()\n",
    "\n",
    "# Prepare output\n",
    "variables = dict(stride_duration=[], min_diff=[], max_diff=[])\n",
    "\n",
    "# Loop over all peak indices except the last one (-1) as a stride happens between indices\n",
    "for peak_cnt in range(len(peak_indices) - 1):\n",
    "    stride_start = peak_indices[peak_cnt]\n",
    "    stride_end = peak_indices[peak_cnt + 1]\n",
    "    stride_ts = z_poll_filtered[stride_start:stride_end]\n",
    "    \n",
    "    # Calculate stride duration\n",
    "    stride_duration = (stride_end - stride_start)/fs\n",
    "    variables[\"stride_duration\"].append(stride_duration)\n",
    "    \n",
    "    # Find peaks and troughs/valleys\n",
    "    stride_peaks, _ = sc.signal.find_peaks(stride_ts)\n",
    "    stride_troughs, _ = sc.signal.find_peaks(-stride_ts)\n",
    "    \n",
    "    # Calculate min diff\n",
    "    if len(stride_troughs) == 2:\n",
    "        mindiff = stride_ts[stride_troughs[1]] - stride_ts[stride_troughs[0]]\n",
    "    else:\n",
    "        mindiff = np.nan\n",
    "        \n",
    "    # Calculate max diff\n",
    "    if len(stride_peaks) == 2:\n",
    "        maxdiff = stride_ts[stride_peaks[1]] - stride_ts[stride_peaks[0]]\n",
    "    else:\n",
    "        maxdiff = np.nan\n",
    "    \n",
    "    variables[\"min_diff\"].append(mindiff)\n",
    "    variables[\"max_diff\"].append(maxdiff)\n",
    "\n",
    "    fig.add_trace(go.Scatter(y=stride_ts, name=f\"Poll z stride {peak_cnt}\"))\n",
    "\n",
    "fig.update_xaxes(tickvals = [0, 25, 50, 75, 100],\n",
    "                 ticktext = ['0%', '25% - Left hind stance', '50%', '75% - Right hind stance', '100%'])\n",
    "fig.update_layout(title=\"Poll verical displacement strides\", yaxis_title=\"Amplitude (mm)\")\n",
    "fig.show()\n",
    "\n",
    "fig2.add_trace(go.Box(y=variables[\"min_diff\"], name=\"Min diff\", boxpoints='all'))\n",
    "fig2.add_trace(go.Box(y=variables[\"max_diff\"], name=\"Max diff\", boxpoints='all'))\n",
    "fig2.update_layout(title=\"Min and max diffs for Poll\", yaxis_title=\"Aymmetry (mm)\")\n",
    "fig2.show()"
   ]
  },
  {
   "cell_type": "markdown",
   "id": "fd375c7f",
   "metadata": {},
   "source": [
    "## IX.  Create a table and export to csv\n",
    "Once the entire chain of processing has been done it is good to save your results. How you want to do this naturally depends on the results structure, but exporting to some form of table format is common. Here we will showcase how the results can be converted to a pandas dataframe and exported to.csv"
   ]
  },
  {
   "cell_type": "code",
   "execution_count": null,
   "id": "583d24bc",
   "metadata": {},
   "outputs": [],
   "source": [
    "# Convert variables to pandas dataframe\n",
    "results_df = pd.DataFrame.from_dict(variables)\n",
    "\n",
    "# Insert categorical data about horse and timepoint (defined when loading the original data)\n",
    "results_df.insert(0, horse_name, [\"HorseA\"]*len(results_df))\n",
    "results_df.insert(1, \"time_point\", [\"T0\"]*len(results_df))\n",
    "\n",
    "# Display output and do basic statistics\n",
    "display(results_df)\n",
    "display(results_df.describe())\n",
    "\n",
    "# Save to csv\n",
    "results_file_name = f\"{horse_name}_{time_point}_results.csv\"\n",
    "results_df.to_csv(f\"{horse_name}_{time_point}_results.csv\", index=False) # Use index=false to not save the row count\n",
    "\n",
    "\n",
    "# Test to load the file \n",
    "loaded_results_df = pd.read_csv(results_file_name)\n",
    "display(loaded_results_df)"
   ]
  },
  {
   "cell_type": "markdown",
   "id": "a0deb55f",
   "metadata": {},
   "source": []
  },
  {
   "cell_type": "code",
   "execution_count": null,
   "id": "a8a03d54",
   "metadata": {},
   "outputs": [],
   "source": []
  }
 ],
 "metadata": {
  "kernelspec": {
   "display_name": "Python 3 (ipykernel)",
   "language": "python",
   "name": "python3"
  },
  "language_info": {
   "codemirror_mode": {
    "name": "ipython",
    "version": 3
   },
   "file_extension": ".py",
   "mimetype": "text/x-python",
   "name": "python",
   "nbconvert_exporter": "python",
   "pygments_lexer": "ipython3",
   "version": "3.11.4"
  }
 },
 "nbformat": 4,
 "nbformat_minor": 5
}
